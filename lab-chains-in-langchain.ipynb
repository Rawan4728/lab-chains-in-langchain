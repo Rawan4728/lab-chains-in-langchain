{
 "cells": [
  {
   "cell_type": "markdown",
   "id": "52824b89-532a-4e54-87e9-1410813cd39e",
   "metadata": {},
   "source": [
    "# Lab | Chains in LangChain\n",
    "\n",
    "## Outline\n",
    "\n",
    "* LLMChain\n",
    "* Sequential Chains\n",
    "  * SimpleSequentialChain\n",
    "  * SequentialChain\n",
    "* Router Chain"
   ]
  },
  {
   "cell_type": "code",
   "execution_count": 15,
   "id": "541eb2f1",
   "metadata": {},
   "outputs": [],
   "source": [
    "import warnings\n",
    "warnings.filterwarnings('ignore')"
   ]
  },
  {
   "cell_type": "code",
   "execution_count": 16,
   "id": "b7ed03ed-1322-49e3-b2a2-33e94fb592ef",
   "metadata": {
    "tags": []
   },
   "outputs": [],
   "source": [
    "import os\n",
    "\n",
    "from dotenv import load_dotenv, find_dotenv\n",
    "_ = load_dotenv(find_dotenv())\n",
    "\n",
    "OPENAI_API_KEY  = os.getenv('OPENAI_API_KEY')\n",
    "HUGGINGFACEHUB_API_TOKEN = os.getenv('HUGGINGFACEHUB_API_TOKEN')"
   ]
  },
  {
   "cell_type": "code",
   "execution_count": 3,
   "id": "b84e441b",
   "metadata": {
    "tags": []
   },
   "outputs": [],
   "source": [
    "#!pip install pandas"
   ]
  },
  {
   "cell_type": "code",
   "execution_count": 18,
   "id": "974acf8e-8f88-42de-88f8-40a82cb58e8b",
   "metadata": {
    "tags": []
   },
   "outputs": [],
   "source": [
    "import pandas as pd\n",
    "df = pd.read_csv('/Users/rawan/Desktop/git_projects/lab-chains-in-langchain/data/Data.csv')"
   ]
  },
  {
   "cell_type": "code",
   "execution_count": 19,
   "id": "b7a09c35",
   "metadata": {
    "tags": []
   },
   "outputs": [
    {
     "data": {
      "text/html": [
       "<div>\n",
       "<style scoped>\n",
       "    .dataframe tbody tr th:only-of-type {\n",
       "        vertical-align: middle;\n",
       "    }\n",
       "\n",
       "    .dataframe tbody tr th {\n",
       "        vertical-align: top;\n",
       "    }\n",
       "\n",
       "    .dataframe thead th {\n",
       "        text-align: right;\n",
       "    }\n",
       "</style>\n",
       "<table border=\"1\" class=\"dataframe\">\n",
       "  <thead>\n",
       "    <tr style=\"text-align: right;\">\n",
       "      <th></th>\n",
       "      <th>Product</th>\n",
       "      <th>Review</th>\n",
       "    </tr>\n",
       "  </thead>\n",
       "  <tbody>\n",
       "    <tr>\n",
       "      <th>0</th>\n",
       "      <td>Queen Size Sheet Set</td>\n",
       "      <td>I ordered a king size set. My only criticism w...</td>\n",
       "    </tr>\n",
       "    <tr>\n",
       "      <th>1</th>\n",
       "      <td>Waterproof Phone Pouch</td>\n",
       "      <td>I loved the waterproof sac, although the openi...</td>\n",
       "    </tr>\n",
       "    <tr>\n",
       "      <th>2</th>\n",
       "      <td>Luxury Air Mattress</td>\n",
       "      <td>This mattress had a small hole in the top of i...</td>\n",
       "    </tr>\n",
       "    <tr>\n",
       "      <th>3</th>\n",
       "      <td>Pillows Insert</td>\n",
       "      <td>This is the best throw pillow fillers on Amazo...</td>\n",
       "    </tr>\n",
       "    <tr>\n",
       "      <th>4</th>\n",
       "      <td>Milk Frother Handheld\\n</td>\n",
       "      <td>I loved this product. But they only seem to l...</td>\n",
       "    </tr>\n",
       "  </tbody>\n",
       "</table>\n",
       "</div>"
      ],
      "text/plain": [
       "                   Product                                             Review\n",
       "0     Queen Size Sheet Set  I ordered a king size set. My only criticism w...\n",
       "1   Waterproof Phone Pouch  I loved the waterproof sac, although the openi...\n",
       "2      Luxury Air Mattress  This mattress had a small hole in the top of i...\n",
       "3           Pillows Insert  This is the best throw pillow fillers on Amazo...\n",
       "4  Milk Frother Handheld\\n   I loved this product. But they only seem to l..."
      ]
     },
     "execution_count": 19,
     "metadata": {},
     "output_type": "execute_result"
    }
   ],
   "source": [
    "df.head()"
   ]
  },
  {
   "cell_type": "markdown",
   "id": "b940ce7c",
   "metadata": {},
   "source": [
    "## LLMChain"
   ]
  },
  {
   "cell_type": "code",
   "execution_count": 20,
   "id": "427e1119",
   "metadata": {},
   "outputs": [
    {
     "name": "stdout",
     "output_type": "stream",
     "text": [
      "Requirement already satisfied: langchain_community in ./.venv/lib/python3.11/site-packages (0.3.21)\n",
      "Requirement already satisfied: langchain-core<1.0.0,>=0.3.51 in ./.venv/lib/python3.11/site-packages (from langchain_community) (0.3.51)\n",
      "Requirement already satisfied: langchain<1.0.0,>=0.3.23 in ./.venv/lib/python3.11/site-packages (from langchain_community) (0.3.23)\n",
      "Requirement already satisfied: SQLAlchemy<3,>=1.4 in ./.venv/lib/python3.11/site-packages (from langchain_community) (2.0.40)\n",
      "Requirement already satisfied: requests<3,>=2 in ./.venv/lib/python3.11/site-packages (from langchain_community) (2.32.3)\n",
      "Requirement already satisfied: PyYAML>=5.3 in ./.venv/lib/python3.11/site-packages (from langchain_community) (6.0.2)\n",
      "Requirement already satisfied: aiohttp<4.0.0,>=3.8.3 in ./.venv/lib/python3.11/site-packages (from langchain_community) (3.11.16)\n",
      "Requirement already satisfied: tenacity!=8.4.0,<10,>=8.1.0 in ./.venv/lib/python3.11/site-packages (from langchain_community) (9.1.2)\n",
      "Requirement already satisfied: dataclasses-json<0.7,>=0.5.7 in ./.venv/lib/python3.11/site-packages (from langchain_community) (0.6.7)\n",
      "Requirement already satisfied: pydantic-settings<3.0.0,>=2.4.0 in ./.venv/lib/python3.11/site-packages (from langchain_community) (2.8.1)\n",
      "Requirement already satisfied: langsmith<0.4,>=0.1.125 in ./.venv/lib/python3.11/site-packages (from langchain_community) (0.3.31)\n",
      "Requirement already satisfied: httpx-sse<1.0.0,>=0.4.0 in ./.venv/lib/python3.11/site-packages (from langchain_community) (0.4.0)\n",
      "Requirement already satisfied: numpy<3,>=1.26.2 in ./.venv/lib/python3.11/site-packages (from langchain_community) (2.2.4)\n",
      "Requirement already satisfied: aiohappyeyeballs>=2.3.0 in ./.venv/lib/python3.11/site-packages (from aiohttp<4.0.0,>=3.8.3->langchain_community) (2.6.1)\n",
      "Requirement already satisfied: aiosignal>=1.1.2 in ./.venv/lib/python3.11/site-packages (from aiohttp<4.0.0,>=3.8.3->langchain_community) (1.3.2)\n",
      "Requirement already satisfied: attrs>=17.3.0 in ./.venv/lib/python3.11/site-packages (from aiohttp<4.0.0,>=3.8.3->langchain_community) (25.3.0)\n",
      "Requirement already satisfied: frozenlist>=1.1.1 in ./.venv/lib/python3.11/site-packages (from aiohttp<4.0.0,>=3.8.3->langchain_community) (1.5.0)\n",
      "Requirement already satisfied: multidict<7.0,>=4.5 in ./.venv/lib/python3.11/site-packages (from aiohttp<4.0.0,>=3.8.3->langchain_community) (6.4.3)\n",
      "Requirement already satisfied: propcache>=0.2.0 in ./.venv/lib/python3.11/site-packages (from aiohttp<4.0.0,>=3.8.3->langchain_community) (0.3.1)\n",
      "Requirement already satisfied: yarl<2.0,>=1.17.0 in ./.venv/lib/python3.11/site-packages (from aiohttp<4.0.0,>=3.8.3->langchain_community) (1.19.0)\n",
      "Requirement already satisfied: marshmallow<4.0.0,>=3.18.0 in ./.venv/lib/python3.11/site-packages (from dataclasses-json<0.7,>=0.5.7->langchain_community) (3.26.1)\n",
      "Requirement already satisfied: typing-inspect<1,>=0.4.0 in ./.venv/lib/python3.11/site-packages (from dataclasses-json<0.7,>=0.5.7->langchain_community) (0.9.0)\n",
      "Requirement already satisfied: langchain-text-splitters<1.0.0,>=0.3.8 in ./.venv/lib/python3.11/site-packages (from langchain<1.0.0,>=0.3.23->langchain_community) (0.3.8)\n",
      "Requirement already satisfied: pydantic<3.0.0,>=2.7.4 in ./.venv/lib/python3.11/site-packages (from langchain<1.0.0,>=0.3.23->langchain_community) (2.11.3)\n",
      "Requirement already satisfied: jsonpatch<2.0,>=1.33 in ./.venv/lib/python3.11/site-packages (from langchain-core<1.0.0,>=0.3.51->langchain_community) (1.33)\n",
      "Requirement already satisfied: packaging<25,>=23.2 in ./.venv/lib/python3.11/site-packages (from langchain-core<1.0.0,>=0.3.51->langchain_community) (24.2)\n",
      "Requirement already satisfied: typing-extensions>=4.7 in ./.venv/lib/python3.11/site-packages (from langchain-core<1.0.0,>=0.3.51->langchain_community) (4.13.2)\n",
      "Requirement already satisfied: httpx<1,>=0.23.0 in ./.venv/lib/python3.11/site-packages (from langsmith<0.4,>=0.1.125->langchain_community) (0.28.1)\n",
      "Requirement already satisfied: orjson<4.0.0,>=3.9.14 in ./.venv/lib/python3.11/site-packages (from langsmith<0.4,>=0.1.125->langchain_community) (3.10.16)\n",
      "Requirement already satisfied: requests-toolbelt<2.0.0,>=1.0.0 in ./.venv/lib/python3.11/site-packages (from langsmith<0.4,>=0.1.125->langchain_community) (1.0.0)\n",
      "Requirement already satisfied: zstandard<0.24.0,>=0.23.0 in ./.venv/lib/python3.11/site-packages (from langsmith<0.4,>=0.1.125->langchain_community) (0.23.0)\n",
      "Requirement already satisfied: python-dotenv>=0.21.0 in ./.venv/lib/python3.11/site-packages (from pydantic-settings<3.0.0,>=2.4.0->langchain_community) (1.1.0)\n",
      "Requirement already satisfied: charset-normalizer<4,>=2 in ./.venv/lib/python3.11/site-packages (from requests<3,>=2->langchain_community) (3.4.1)\n",
      "Requirement already satisfied: idna<4,>=2.5 in ./.venv/lib/python3.11/site-packages (from requests<3,>=2->langchain_community) (3.10)\n",
      "Requirement already satisfied: urllib3<3,>=1.21.1 in ./.venv/lib/python3.11/site-packages (from requests<3,>=2->langchain_community) (2.4.0)\n",
      "Requirement already satisfied: certifi>=2017.4.17 in ./.venv/lib/python3.11/site-packages (from requests<3,>=2->langchain_community) (2025.1.31)\n",
      "Requirement already satisfied: greenlet>=1 in ./.venv/lib/python3.11/site-packages (from SQLAlchemy<3,>=1.4->langchain_community) (3.1.1)\n",
      "Requirement already satisfied: anyio in ./.venv/lib/python3.11/site-packages (from httpx<1,>=0.23.0->langsmith<0.4,>=0.1.125->langchain_community) (4.9.0)\n",
      "Requirement already satisfied: httpcore==1.* in ./.venv/lib/python3.11/site-packages (from httpx<1,>=0.23.0->langsmith<0.4,>=0.1.125->langchain_community) (1.0.8)\n",
      "Requirement already satisfied: h11<0.15,>=0.13 in ./.venv/lib/python3.11/site-packages (from httpcore==1.*->httpx<1,>=0.23.0->langsmith<0.4,>=0.1.125->langchain_community) (0.14.0)\n",
      "Requirement already satisfied: jsonpointer>=1.9 in ./.venv/lib/python3.11/site-packages (from jsonpatch<2.0,>=1.33->langchain-core<1.0.0,>=0.3.51->langchain_community) (3.0.0)\n",
      "Requirement already satisfied: annotated-types>=0.6.0 in ./.venv/lib/python3.11/site-packages (from pydantic<3.0.0,>=2.7.4->langchain<1.0.0,>=0.3.23->langchain_community) (0.7.0)\n",
      "Requirement already satisfied: pydantic-core==2.33.1 in ./.venv/lib/python3.11/site-packages (from pydantic<3.0.0,>=2.7.4->langchain<1.0.0,>=0.3.23->langchain_community) (2.33.1)\n",
      "Requirement already satisfied: typing-inspection>=0.4.0 in ./.venv/lib/python3.11/site-packages (from pydantic<3.0.0,>=2.7.4->langchain<1.0.0,>=0.3.23->langchain_community) (0.4.0)\n",
      "Requirement already satisfied: mypy-extensions>=0.3.0 in ./.venv/lib/python3.11/site-packages (from typing-inspect<1,>=0.4.0->dataclasses-json<0.7,>=0.5.7->langchain_community) (1.0.0)\n",
      "Requirement already satisfied: sniffio>=1.1 in ./.venv/lib/python3.11/site-packages (from anyio->httpx<1,>=0.23.0->langsmith<0.4,>=0.1.125->langchain_community) (1.3.1)\n"
     ]
    }
   ],
   "source": [
    "!pip install langchain_community"
   ]
  },
  {
   "cell_type": "code",
   "execution_count": 21,
   "id": "e92dff22",
   "metadata": {
    "tags": []
   },
   "outputs": [],
   "source": [
    "from langchain_openai import ChatOpenAI\n",
    "from langchain.prompts import ChatPromptTemplate\n",
    "from langchain.chains import LLMChain"
   ]
  },
  {
   "cell_type": "code",
   "execution_count": 31,
   "id": "943237a7",
   "metadata": {},
   "outputs": [],
   "source": [
    "#Replace None by your own value and justify\n",
    "#Optimal for tasks requiring balanced creativity and coherence, this setting introduces moderate randomness while maintaining factual reliability.\n",
    "llm = ChatOpenAI(temperature=.5 )\n",
    "\n"
   ]
  },
  {
   "cell_type": "code",
   "execution_count": 32,
   "id": "cdcdb42d",
   "metadata": {},
   "outputs": [],
   "source": [
    "prompt = ChatPromptTemplate.from_template( #Write a query that would take a variable to describe any product\n",
    "  \"\"\"Write a detailed product description for a {product_name}: \n",
    "    - Target audience: {target_audience}\n",
    "    - Key features: {features}\n",
    "    \n",
    "    \n",
    "    \"\"\"\n",
    ")\n"
   ]
  },
  {
   "cell_type": "code",
   "execution_count": 33,
   "id": "d7abc20b",
   "metadata": {},
   "outputs": [],
   "source": [
    "\n",
    "chain = LLMChain(llm=llm, prompt=prompt)"
   ]
  },
  {
   "cell_type": "code",
   "execution_count": 34,
   "id": "ad44d1fb",
   "metadata": {},
   "outputs": [
    {
     "data": {
      "text/plain": [
       "\"The SmartGrow Indoor Garden Kit is the perfect solution for individuals who love gardening but may not have the time or space for a traditional outdoor garden. This innovative kit is designed for indoor use, making it ideal for those who live in apartments, condos, or homes with limited outdoor space.\\n\\nOne of the key features of the SmartGrow Indoor Garden Kit is its automated watering system. This system takes the guesswork out of watering your plants, ensuring they receive the perfect amount of water at the right time. This not only saves you time and effort, but also helps to prevent over or under-watering, which can be detrimental to plant health.\\n\\nThe kit also comes equipped with LED grow lights, which provide the perfect spectrum of light for plants to thrive. These lights mimic natural sunlight, promoting healthy growth and ensuring that your plants receive the light they need, even in a dimly lit indoor environment.\\n\\nFor added convenience, the SmartGrow Indoor Garden Kit is also compatible with a smartphone app, allowing you to monitor and control your garden from anywhere. With the app, you can adjust the watering schedule, set timers for the grow lights, and receive notifications when your plants need attention. This app integration makes it easy to care for your garden, even if you're away from home.\\n\\nOverall, the SmartGrow Indoor Garden Kit is a must-have for anyone who loves gardening but may not have the time or space for a traditional outdoor garden. With its automated watering system, LED grow lights, and app integration, this kit makes it easy to grow healthy, thriving plants right in your own home.\""
      ]
     },
     "execution_count": 34,
     "metadata": {},
     "output_type": "execute_result"
    }
   ],
   "source": [
    "product = {\n",
    "    \n",
    "    \"product_name\": \"SmartGrow Indoor Garden Kit\",\n",
    "   \n",
    "    \"target_audience\": \"people who have garden in their house and gardening enthusiasts\",\n",
    "    \"features\": \"automated watering system, LED grow lights, app integration\"\n",
    "    \n",
    "    \n",
    "}\n",
    "chain.run(product)"
   ]
  },
  {
   "cell_type": "markdown",
   "id": "69b03469",
   "metadata": {},
   "source": [
    "## SimpleSequentialChain"
   ]
  },
  {
   "cell_type": "code",
   "execution_count": 35,
   "id": "febee243",
   "metadata": {},
   "outputs": [],
   "source": [
    "from langchain.chains import SimpleSequentialChain"
   ]
  },
  {
   "cell_type": "code",
   "execution_count": 53,
   "id": "2f31aa8a",
   "metadata": {},
   "outputs": [],
   "source": [
    "llm = ChatOpenAI(temperature=0.9)\n",
    "\n",
    "# prompt template 1\n",
    "first_prompt = ChatPromptTemplate.from_template(\n",
    "    #Repeat the initial query or create a new query that would feed into the second prompt\n",
    "      \"\"\"Write a detailed product description for a {product_name}: \n",
    "    - Target audience: {target_audience}\n",
    "    - Key features: {features}\n",
    "    \n",
    "    \n",
    "    \"\"\"\n",
    ")\n",
    "\n",
    "# Chain 1\n",
    "chain_one = LLMChain(llm=llm, prompt=first_prompt, output_key='product_description')\n",
    "\n"
   ]
  },
  {
   "cell_type": "code",
   "execution_count": 54,
   "id": "3f5d5b76",
   "metadata": {},
   "outputs": [],
   "source": [
    "\n",
    "# prompt template 2\n",
    "second_prompt = ChatPromptTemplate.from_template(\n",
    "    #Write the second prompt query that takes an input variable whose input will come from the previous prompt\"\n",
    "     \"\"\"Refine and expand this product description for better marketing appeal. \n",
    "    Focus on enhancing {features} while preserving the core details:\n",
    "    \n",
    "    **Original Description**: {product_description}\n",
    "    \n",
    "    **Revised Version**:\"\"\"\n",
    ")\n",
    "# chain 2\n",
    "chain_two = LLMChain(llm=llm, prompt=second_prompt)"
   ]
  },
  {
   "cell_type": "code",
   "execution_count": 56,
   "id": "6c1eb2c4",
   "metadata": {},
   "outputs": [],
   "source": [
    "from langchain.chains import SequentialChain\n",
    "\n",
    "# Combined chain\n",
    "overall_chain = SequentialChain(\n",
    "    chains=[chain_one, chain_two],\n",
    "    input_variables=['product_name', 'target_audience', 'features'],\n",
    "    output_variables=['product_description'],  # adjust if the second chain outputs a different name\n",
    "    verbose=True\n",
    ")\n"
   ]
  },
  {
   "cell_type": "code",
   "execution_count": 57,
   "id": "78458efe",
   "metadata": {},
   "outputs": [
    {
     "name": "stdout",
     "output_type": "stream",
     "text": [
      "\n",
      "\n",
      "\u001b[1m> Entering new SequentialChain chain...\u001b[0m\n",
      "\n",
      "\u001b[1m> Finished chain.\u001b[0m\n"
     ]
    },
    {
     "data": {
      "text/plain": [
       "\"The SmartGrow Indoor Garden Kit is the perfect solution for gardeners who want to bring their green thumb indoors. This innovative kit is designed for people who have a garden in their house or are gardening enthusiasts looking to grow their favorite plants year-round.\\n\\nOne of the key features of the SmartGrow Indoor Garden Kit is its automated watering system. This system ensures that your plants are provided with the perfect amount of water at the right times, helping to prevent overwatering or underwatering. This feature is especially helpful for busy individuals who may not always have the time to monitor their plants' watering needs.\\n\\nAdditionally, the SmartGrow Indoor Garden Kit comes equipped with high-quality LED grow lights, which mimic natural sunlight and promote healthy plant growth. These lights are energy-efficient and have a long lifespan, making them a cost-effective and environmentally-friendly option for indoor gardening.\\n\\nThe kit also features app integration, allowing users to conveniently monitor and control their garden from their smartphone or tablet. Through the app, gardeners can set watering schedules, adjust light settings, and receive notifications about their plants' progress. This level of control and convenience makes it easy for users to care for their plants effectively, even when they are away from home.\\n\\nOverall, the SmartGrow Indoor Garden Kit is a must-have for anyone looking to cultivate a thriving indoor garden. With its automated watering system, LED grow lights, and app integration, this kit provides all the tools necessary for successful indoor gardening. Whether you're a seasoned gardener or just starting out, this kit is sure to help you grow healthy and vibrant plants in the comfort of your own home.\""
      ]
     },
     "execution_count": 57,
     "metadata": {},
     "output_type": "execute_result"
    }
   ],
   "source": [
    "overall_chain.run(product)"
   ]
  },
  {
   "cell_type": "markdown",
   "id": "0dd59bda-9d02-44e7-b3d6-2bec61b99d8f",
   "metadata": {},
   "source": [
    "**Repeat the above twice for different products**"
   ]
  },
  {
   "cell_type": "code",
   "execution_count": 58,
   "id": "70757631",
   "metadata": {},
   "outputs": [
    {
     "data": {
      "text/plain": [
       "\"Stay warm and cozy all winter long with the CozyHeat Electric Blanket. Perfect for people living in cold climates or those who simply love to snuggle up in comfort, this electric blanket is sure to become your new favorite way to stay warm.\\n\\nThe CozyHeat Electric Blanket features adjustable heat settings, allowing you to customize the level of warmth to suit your preferences. Whether you like a little extra heat on a chilly night or just need a gentle warmth to help you relax, this blanket has you covered. The auto shut-off timer ensures safety and peace of mind, so you can drift off to sleep without worrying about leaving the blanket on all night.\\n\\nMade with machine washable fabric, the CozyHeat Electric Blanket is easy to care for and keep clean. Simply toss it in the washing machine when it needs a refresh and enjoy the soft, cozy feel of the blanket for years to come.\\n\\nDon't let the cold weather get you down – stay warm and comfortable with the CozyHeat Electric Blanket. Perfect for curling up on the couch, staying warm in bed, or even using at your desk while working from home, this blanket is a must-have for anyone who loves to stay cozy and warm.\""
      ]
     },
     "execution_count": 58,
     "metadata": {},
     "output_type": "execute_result"
    }
   ],
   "source": [
    "product1 = {\n",
    "    \"product_name\": \"CozyHeat Electric Blanket\",\n",
    "   \n",
    "    \"target_audience\": \"People living in cold climates and comfort seekers\",\n",
    "    \"features\": [\n",
    "        \"Adjustable heat settings\",\n",
    "        \"Auto shut-off timer\",\n",
    "        \"Machine washable fabric\"\n",
    "    ],\n",
    "    \n",
    "    \"rating\": 4.6,\n",
    "    \"reviews_count\": 2350\n",
    "}\n",
    "\n",
    "chain.run(product1)\n"
   ]
  },
  {
   "cell_type": "code",
   "execution_count": 59,
   "id": "d09cb199",
   "metadata": {},
   "outputs": [],
   "source": [
    "llm = ChatOpenAI(temperature=0.9)\n",
    "\n",
    "# prompt template 1\n",
    "first_pro = ChatPromptTemplate.from_template(\n",
    "    #Repeat the initial query or create a new query that would feed into the second prompt\n",
    "      \"\"\"Write a detailed product description for a {product_name}: \n",
    "    - Target audience: {target_audience}\n",
    "    - Key features: {features}\n",
    "    - Rating: {rating}\n",
    "    - Number of reviews: {reviews_count}\n",
    "    \n",
    "    \n",
    "    \"\"\"\n",
    ")\n",
    "\n",
    "# Chain 1\n",
    "chain_one = LLMChain(llm=llm, prompt=first_prompt, output_key='product_description')\n",
    "\n"
   ]
  },
  {
   "cell_type": "code",
   "execution_count": 64,
   "id": "b513607b",
   "metadata": {},
   "outputs": [],
   "source": [
    "\n",
    "# prompt template 2\n",
    "second_pro = ChatPromptTemplate.from_template(\n",
    "    #Write the second prompt query that takes an input variable whose input will come from the previous prompt\"\n",
    "     \"\"\"Refine and expand this product description for better marketing appeal. \n",
    "    Focus on enhancing {features} while preserving the core details:\n",
    "    \n",
    "    **Original Description**: {product_description}\n",
    "    \n",
    "    **Revised Version**:\"\"\"\n",
    ")\n",
    "# chain 2\n",
    "chain_two = LLMChain(llm=llm, prompt=second_prompt)"
   ]
  },
  {
   "cell_type": "code",
   "execution_count": 65,
   "id": "89b622b4",
   "metadata": {},
   "outputs": [],
   "source": [
    "from langchain.chains import SequentialChain\n",
    "\n",
    "# Combined chain\n",
    "overall_chain1 = SequentialChain(\n",
    "    chains=[chain_one, chain_two],\n",
    "    input_variables=['product_name', 'target_audience', 'features', 'rating', 'reviews_count'],\n",
    "    output_variables=['product_description'],  # adjust if the second chain outputs a different name\n",
    "    verbose=True\n",
    ")\n"
   ]
  },
  {
   "cell_type": "code",
   "execution_count": 66,
   "id": "9530ffc0",
   "metadata": {},
   "outputs": [
    {
     "name": "stdout",
     "output_type": "stream",
     "text": [
      "\n",
      "\n",
      "\u001b[1m> Entering new SequentialChain chain...\u001b[0m\n",
      "\n",
      "\u001b[1m> Finished chain.\u001b[0m\n"
     ]
    },
    {
     "data": {
      "text/plain": [
       "\"The CozyHeat Electric Blanket is the perfect solution for those living in cold climates or for anyone who loves to snuggle up and stay warm and cozy. This luxurious blanket features adjustable heat settings, allowing you to customize the warmth to your preferred level. Whether you like a little extra heat on chilly nights or just a gentle warmth to keep you comfortable, this blanket has you covered.\\n\\nOne of the key features of the CozyHeat Electric Blanket is the auto shut-off timer, providing peace of mind and safety. You can set the timer to automatically turn off after a certain amount of time, so you can sleep soundly without worrying about overheating or leaving the blanket on all night.\\n\\nThe machine washable fabric makes cleaning and maintenance a breeze. Simply toss the blanket in the washing machine to keep it fresh and clean, ensuring that you can enjoy the comfort and warmth of this electric blanket for years to come.\\n\\nWhether you're curling up on the couch for a movie night or getting ready for a restful night's sleep, the CozyHeat Electric Blanket is the ultimate in comfort and convenience. Say goodbye to cold nights and hello to cozy warmth with this must-have blanket.\""
      ]
     },
     "execution_count": 66,
     "metadata": {},
     "output_type": "execute_result"
    }
   ],
   "source": [
    "overall_chain1.run(product1)"
   ]
  },
  {
   "cell_type": "markdown",
   "id": "7b5ce18c",
   "metadata": {},
   "source": [
    "## SequentialChain"
   ]
  },
  {
   "cell_type": "code",
   "execution_count": 67,
   "id": "4c129ef6",
   "metadata": {},
   "outputs": [],
   "source": [
    "from langchain.chains import SequentialChain"
   ]
  },
  {
   "cell_type": "code",
   "execution_count": 74,
   "id": "016187ac",
   "metadata": {},
   "outputs": [],
   "source": [
    "llm = ChatOpenAI(temperature=0.9)\n",
    "\n",
    "\n",
    "first_prompt = ChatPromptTemplate.from_template(\n",
    "  #This prompt should translate a review\n",
    "   \"Translate the following customer review to English:\\n\\n{review}\"\n",
    "\n",
    ")\n",
    "\n",
    "chain_one = LLMChain(llm=llm, prompt=first_prompt, \n",
    "                     output_key= \"translated_review\" #Give a name to your output\n",
    "                    )\n"
   ]
  },
  {
   "cell_type": "code",
   "execution_count": 75,
   "id": "0fb0730e",
   "metadata": {},
   "outputs": [],
   "source": [
    "second_prompt = ChatPromptTemplate.from_template(\n",
    "    #Write a promplt to summarize a review\n",
    "     \"Summarize the following customer review in 1-2 sentences:\\n\\n{review}\"\n",
    ")\n",
    "\n",
    "chain_two = LLMChain(llm=llm, prompt=second_prompt, \n",
    "                     output_key= \"summary\" #give a name to this output\n",
    "                    )\n"
   ]
  },
  {
   "cell_type": "code",
   "execution_count": 76,
   "id": "6accf92d",
   "metadata": {},
   "outputs": [],
   "source": [
    "# prompt template 3: translate to english or other language\n",
    "third_prompt = ChatPromptTemplate.from_template(\n",
    "     \"Translate the following customer review to Arabic:\\n\\n{review}\"\n",
    ")\n",
    "# chain 3: input= Review and output= language\n",
    "chain_three = LLMChain(llm=llm, prompt=third_prompt,\n",
    "                       output_key=\"translate\"\n",
    "                      )\n"
   ]
  },
  {
   "cell_type": "code",
   "execution_count": 77,
   "id": "c7a46121",
   "metadata": {},
   "outputs": [],
   "source": [
    "\n",
    "# prompt template 4: follow up message that take as inputs the two previous prompts' variables\n",
    "fourth_prompt = ChatPromptTemplate.from_template(\n",
    "    \"Based on the translated review:\\n\\n{translated_review}\\n\\n\"\n",
    "    \"and the summary:\\n\\n{summary}\\n\\n\"\n",
    "    \"Write a friendly follow-up message to the customer thanking them for their feedback!\"\n",
    ")\n",
    "chain_four = LLMChain(llm=llm, prompt=fourth_prompt,\n",
    "                      output_key=\"follow_up_message\"\n",
    "                     )\n"
   ]
  },
  {
   "cell_type": "code",
   "execution_count": 81,
   "id": "89603117",
   "metadata": {},
   "outputs": [],
   "source": [
    "# overall_chain: input= Review \n",
    "# and output= English_Review,summary, followup_message\n",
    "overall_chain = SequentialChain(\n",
    "    chains=[chain_one, chain_two, chain_three, chain_four],\n",
    "    input_variables= [\"review\"],\n",
    "    output_variables=[\"translated_review\", \"translate\",\"summary\", \"follow_up_message\"],\n",
    "    verbose=True\n",
    ")"
   ]
  },
  {
   "cell_type": "code",
   "execution_count": 82,
   "id": "51b04f45",
   "metadata": {},
   "outputs": [
    {
     "name": "stdout",
     "output_type": "stream",
     "text": [
      "\n",
      "\n",
      "\u001b[1m> Entering new SequentialChain chain...\u001b[0m\n",
      "\n",
      "\u001b[1m> Finished chain.\u001b[0m\n"
     ]
    },
    {
     "data": {
      "text/plain": [
       "{'review': \"Je trouve le goût médiocre. La mousse ne tient pas, c'est bizarre. J'achète les mêmes dans le commerce et le goût est bien meilleur...\\nVieux lot ou contrefaçon !?\",\n",
       " 'translated_review': '\"I find the taste mediocre. The foam doesn\\'t hold, it\\'s weird. I buy the same ones in stores and the taste is much better... Old batch or counterfeit!?\"',\n",
       " 'translate': 'أجد الطعم سيئًا. لا يدوم الرغوة، هذا أمر غريب. أشتري نفس الشيء من المتاجر والطعم أفضل بكثير...\\nهل هو دفعة قديمة أم تقليد؟',\n",
       " 'summary': 'Le client trouve le goût médiocre, la mousse ne tient pas, et pense que le produit pourrait être un vieux lot ou une contrefaçon car il achète habituellement le même produit dans le commerce avec un meilleur goût.',\n",
       " 'follow_up_message': 'Dear Valued Customer,\\n\\nThank you for taking the time to share your feedback with us. We are sorry to hear that you found the taste of our product to be mediocre and that the foam did not hold up as expected. We take customer feedback very seriously and will investigate the issue further to ensure the quality of our products.\\n\\nIf there is anything else you would like to share with us or if you have any further concerns, please do not hesitate to reach out. We appreciate your support and hope to provide you with a better experience in the future.\\n\\nThank you again for your feedback and for being a valued customer.\\n\\nSincerely,\\n[Your Name] [Your Title] [Company Name]'}"
      ]
     },
     "execution_count": 82,
     "metadata": {},
     "output_type": "execute_result"
    }
   ],
   "source": [
    "review = df.Review[5]\n",
    "overall_chain(review)"
   ]
  },
  {
   "cell_type": "markdown",
   "id": "3187cf07-458a-4226-bec7-3dec7ee47af2",
   "metadata": {},
   "source": [
    "**Repeat the above twice for different products or reviews**"
   ]
  },
  {
   "cell_type": "markdown",
   "id": "3041ea4c",
   "metadata": {},
   "source": [
    "## Router Chain"
   ]
  },
  {
   "cell_type": "code",
   "execution_count": 84,
   "id": "ade83f4f",
   "metadata": {},
   "outputs": [],
   "source": [
    "physics_template = \"\"\"You are a very smart physics professor. \\\n",
    "You are great at answering questions about physics in a concise\\\n",
    "and easy to understand manner. \\\n",
    "When you don't know the answer to a question you admit\\\n",
    "that you don't know.\n",
    "\n",
    "Here is a question:\n",
    "{input}\"\"\"\n",
    "\n",
    "\n",
    "math_template = \"\"\"You are a very good mathematician. \\\n",
    "You are great at answering math questions. \\\n",
    "You are so good because you are able to break down \\\n",
    "hard problems into their component parts, \n",
    "answer the component parts, and then put them together\\\n",
    "to answer the broader question.\n",
    "\n",
    "Here is a question:\n",
    "{input}\"\"\"\n",
    "\n",
    "history_template = \"\"\"You are a very good historian. \\\n",
    "You have an excellent knowledge of and understanding of people,\\\n",
    "events and contexts from a range of historical periods. \\\n",
    "You have the ability to think, reflect, debate, discuss and \\\n",
    "evaluate the past. You have a respect for historical evidence\\\n",
    "and the ability to make use of it to support your explanations \\\n",
    "and judgements.\n",
    "\n",
    "Here is a question:\n",
    "{input}\"\"\"\n",
    "\n",
    "\n",
    "computerscience_template = \"\"\" You are a successful computer scientist.\\\n",
    "You have a passion for creativity, collaboration,\\\n",
    "forward-thinking, confidence, strong problem-solving capabilities,\\\n",
    "understanding of theories and algorithms, and excellent communication \\\n",
    "skills. You are great at answering coding questions. \\\n",
    "You are so good because you know how to solve a problem by \\\n",
    "describing the solution in imperative steps \\\n",
    "that a machine can easily interpret and you know how to \\\n",
    "choose a solution that has a good balance between \\\n",
    "time complexity and space complexity. \n",
    "\n",
    "Here is a question:\n",
    "{input}\"\"\"\n",
    "\n",
    "biology_template = \"\"\"You are an excellent biologist. \\\n",
    "You have a deep understanding of living organisms, \\\n",
    "from the molecular and cellular level to entire ecosystems. \\\n",
    "You are skilled at observing patterns in nature, analyzing biological data, \\\n",
    "and explaining complex processes like evolution, genetics, physiology, and ecology. \\\n",
    "You can clearly communicate how life functions and adapts, \\\n",
    "and you make connections between different biological concepts \\\n",
    "to answer challenging questions.\n",
    "\n",
    "Here is a question:\n",
    "{input}\"\"\""
   ]
  },
  {
   "cell_type": "code",
   "execution_count": 85,
   "id": "5f590e9f",
   "metadata": {},
   "outputs": [],
   "source": [
    "prompt_infos = [\n",
    "    {\n",
    "        \"name\": \"physics\", \n",
    "        \"description\": \"Good for answering questions about physics\", \n",
    "        \"prompt_template\": physics_template\n",
    "    },\n",
    "    {\n",
    "        \"name\": \"math\", \n",
    "        \"description\": \"Good for answering math questions\", \n",
    "        \"prompt_template\": math_template\n",
    "    },\n",
    "    {\n",
    "        \"name\": \"History\", \n",
    "        \"description\": \"Good for answering history questions\", \n",
    "        \"prompt_template\": history_template\n",
    "    },\n",
    "    {\n",
    "        \"name\": \"computer science\", \n",
    "        \"description\": \"Good for answering computer science questions\", \n",
    "        \"prompt_template\": computerscience_template\n",
    "    },\n",
    "    {\n",
    "        \"name\": \"biology\",\n",
    "        \"description\": \"Good for answering biology questions\",\n",
    "        \"prompt_template\": biology_template\n",
    "    }\n",
    "]"
   ]
  },
  {
   "cell_type": "code",
   "execution_count": 86,
   "id": "31b06fc8",
   "metadata": {},
   "outputs": [],
   "source": [
    "from langchain.chains.router import MultiPromptChain\n",
    "from langchain.chains.router.llm_router import LLMRouterChain,RouterOutputParser\n",
    "from langchain.prompts import PromptTemplate"
   ]
  },
  {
   "cell_type": "code",
   "execution_count": 87,
   "id": "f3f50bcc",
   "metadata": {},
   "outputs": [],
   "source": [
    "llm = ChatOpenAI(temperature=0)"
   ]
  },
  {
   "cell_type": "code",
   "execution_count": 88,
   "id": "8eefec24",
   "metadata": {},
   "outputs": [],
   "source": [
    "destination_chains = {}\n",
    "for p_info in prompt_infos:\n",
    "    name = p_info[\"name\"]\n",
    "    prompt_template = p_info[\"prompt_template\"]\n",
    "    prompt = ChatPromptTemplate.from_template(template=prompt_template)\n",
    "    chain = LLMChain(llm=llm, prompt=prompt)\n",
    "    destination_chains[name] = chain  \n",
    "    \n",
    "destinations = [f\"{p['name']}: {p['description']}\" for p in prompt_infos]\n",
    "destinations_str = \"\\n\".join(destinations)"
   ]
  },
  {
   "cell_type": "code",
   "execution_count": 89,
   "id": "9f98018a",
   "metadata": {},
   "outputs": [],
   "source": [
    "default_prompt = ChatPromptTemplate.from_template(\"{input}\")\n",
    "default_chain = LLMChain(llm=llm, prompt=default_prompt)"
   ]
  },
  {
   "cell_type": "code",
   "execution_count": 90,
   "id": "11b2e2ba",
   "metadata": {},
   "outputs": [],
   "source": [
    "MULTI_PROMPT_ROUTER_TEMPLATE = \"\"\"Given a raw text input to a \\\n",
    "language model select the model prompt best suited for the input. \\\n",
    "You will be given the names of the available prompts and a \\\n",
    "description of what the prompt is best suited for. \\\n",
    "You may also revise the original input if you think that revising\\\n",
    "it will ultimately lead to a better response from the language model.\n",
    "\n",
    "<< FORMATTING >>\n",
    "Return a markdown code snippet with a JSON object formatted to look like:\n",
    "```json\n",
    "{{{{\n",
    "    \"destination\": string \\ name of the prompt to use or \"DEFAULT\"\n",
    "    \"next_inputs\": string \\ a potentially modified version of the original input\n",
    "}}}}\n",
    "```\n",
    "\n",
    "REMEMBER: \"destination\" MUST be one of the candidate prompt \\\n",
    "names specified below OR it can be \"DEFAULT\" if the input is not\\\n",
    "well suited for any of the candidate prompts.\n",
    "REMEMBER: \"next_inputs\" can just be the original input \\\n",
    "if you don't think any modifications are needed.\n",
    "\n",
    "<< CANDIDATE PROMPTS >>\n",
    "{destinations}\n",
    "\n",
    "<< INPUT >>\n",
    "{{input}}\n",
    "\n",
    "<< OUTPUT (remember to include the ```json)>>\"\"\""
   ]
  },
  {
   "cell_type": "code",
   "execution_count": 91,
   "id": "1387109d",
   "metadata": {},
   "outputs": [],
   "source": [
    "router_template = MULTI_PROMPT_ROUTER_TEMPLATE.format(\n",
    "    destinations=destinations_str\n",
    ")\n",
    "router_prompt = PromptTemplate(\n",
    "    template=router_template,\n",
    "    input_variables=[\"input\"],\n",
    "    output_parser=RouterOutputParser(),\n",
    ")\n",
    "\n",
    "router_chain = LLMRouterChain.from_llm(llm, router_prompt)"
   ]
  },
  {
   "cell_type": "code",
   "execution_count": 92,
   "id": "2fb7d560",
   "metadata": {},
   "outputs": [],
   "source": [
    "chain = MultiPromptChain(router_chain=router_chain, \n",
    "                         destination_chains=destination_chains, \n",
    "                         default_chain=default_chain, verbose=True\n",
    "                        )"
   ]
  },
  {
   "cell_type": "code",
   "execution_count": 93,
   "id": "d86b2131",
   "metadata": {},
   "outputs": [
    {
     "name": "stdout",
     "output_type": "stream",
     "text": [
      "\n",
      "\n",
      "\u001b[1m> Entering new MultiPromptChain chain...\u001b[0m\n",
      "physics: {'input': 'What is black body radiation?'}\n",
      "\u001b[1m> Finished chain.\u001b[0m\n"
     ]
    },
    {
     "data": {
      "text/plain": [
       "\"Black body radiation refers to the electromagnetic radiation emitted by a perfect black body, which is an idealized physical body that absorbs all incident electromagnetic radiation. The radiation emitted by a black body depends only on its temperature and follows a specific distribution known as Planck's law. This radiation is characterized by a continuous spectrum of wavelengths and intensities, with the peak intensity shifting to shorter wavelengths as the temperature of the black body increases. Black body radiation plays a key role in understanding concepts such as thermal radiation and the quantization of energy in quantum mechanics.\""
      ]
     },
     "execution_count": 93,
     "metadata": {},
     "output_type": "execute_result"
    }
   ],
   "source": [
    "chain.run(\"What is black body radiation?\")"
   ]
  },
  {
   "cell_type": "code",
   "execution_count": 94,
   "id": "3b717379",
   "metadata": {},
   "outputs": [
    {
     "name": "stdout",
     "output_type": "stream",
     "text": [
      "\n",
      "\n",
      "\u001b[1m> Entering new MultiPromptChain chain...\u001b[0m\n",
      "math: {'input': 'what is 2 + 2'}\n",
      "\u001b[1m> Finished chain.\u001b[0m\n"
     ]
    },
    {
     "data": {
      "text/plain": [
       "'The answer to 2 + 2 is 4.'"
      ]
     },
     "execution_count": 94,
     "metadata": {},
     "output_type": "execute_result"
    }
   ],
   "source": [
    "chain.run(\"what is 2 + 2\")"
   ]
  },
  {
   "cell_type": "code",
   "execution_count": 95,
   "id": "29e5be01",
   "metadata": {},
   "outputs": [
    {
     "name": "stdout",
     "output_type": "stream",
     "text": [
      "\n",
      "\n",
      "\u001b[1m> Entering new MultiPromptChain chain...\u001b[0m\n",
      "biology: {'input': 'Why does every cell in our body contain DNA?'}\n",
      "\u001b[1m> Finished chain.\u001b[0m\n"
     ]
    },
    {
     "data": {
      "text/plain": [
       "'Every cell in our body contains DNA because DNA is the genetic material that carries the instructions for the development, functioning, and reproduction of all living organisms. DNA contains the information needed to build and maintain an organism, including the proteins that make up our cells and tissues. \\n\\nHaving DNA in every cell ensures that each cell has the necessary genetic information to carry out its specific functions and to replicate itself accurately during cell division. This genetic information is crucial for maintaining the integrity and stability of our cells and ultimately our entire body. \\n\\nAdditionally, DNA is constantly being replicated and repaired in our cells to ensure that genetic information is passed on accurately to the next generation of cells. This process is essential for the growth, development, and overall health of our bodies. \\n\\nIn summary, every cell in our body contains DNA because it is essential for the proper functioning and maintenance of all living organisms.'"
      ]
     },
     "execution_count": 95,
     "metadata": {},
     "output_type": "execute_result"
    }
   ],
   "source": [
    "chain.run(\"Why does every cell in our body contain DNA?\")"
   ]
  },
  {
   "cell_type": "markdown",
   "id": "09e0c60b-7ae0-453e-9467-142d8dafee6e",
   "metadata": {},
   "source": [
    "**Repeat the above at least once for different inputs and chains executions - Be creative!**"
   ]
  },
  {
   "cell_type": "code",
   "execution_count": 112,
   "id": "a128efd2",
   "metadata": {},
   "outputs": [],
   "source": [
    "therapist_template = \"\"\"You are a compassionate therapist.\n",
    "You have a deep understanding of human emotions, behaviors, and mental health.\n",
    "You are great at creating a safe space for individuals to explore their feelings,\n",
    "challenges, and personal growth. You excel at listening, offering empathetic responses,\n",
    "and helping people work through difficult emotions. You offer guidance in a supportive\n",
    "and non-judgmental way, helping people find their own solutions and gain new perspectives.\n",
    "\n",
    "Here is a question: {input}\"\"\"\n",
    "\n",
    "art_template = \"\"\"You are an imaginative and insightful artist. You see the world through a creative lens, finding beauty and meaning in both the ordinary and the extraordinary. You believe in the power of art to express complex emotions, ideas, and stories without words. You encourage exploration and experimentation, helping individuals tap into their creative potential and discover their unique artistic voice. Your approach to art is fluid, allowing for self-expression and the exploration of different mediums, styles, and techniques.\n",
    "\n",
    "Here is a question: {input}\"\"\"\n"
   ]
  },
  {
   "cell_type": "code",
   "execution_count": 113,
   "id": "137285f7",
   "metadata": {},
   "outputs": [],
   "source": [
    "p_infos = [\n",
    "    {\n",
    "        \"name\": \"therapy\",\n",
    "        \"description\": \"Good for answering questions in a therapeutic context\",\n",
    "        \"prompt_template\": therapist_template\n",
    "    },\n",
    "    {\n",
    "    \"name\": \"art\",\n",
    "    \"description\": \"Good for answering art-related questions and promoting creativity\",\n",
    "    \"prompt_template\": art_template\n",
    "}\n",
    "\n",
    "]"
   ]
  },
  {
   "cell_type": "code",
   "execution_count": 114,
   "id": "7fcc4f0a",
   "metadata": {},
   "outputs": [],
   "source": [
    "llm = ChatOpenAI(temperature=0.3)"
   ]
  },
  {
   "cell_type": "code",
   "execution_count": 116,
   "id": "739c6e7a",
   "metadata": {},
   "outputs": [],
   "source": [
    "destination_chains = {}\n",
    "for p_info in p_infos:\n",
    "    name = p_info[\"name\"]\n",
    "    prompt_template = p_info[\"prompt_template\"]\n",
    "    prompt = ChatPromptTemplate.from_template(template=prompt_template)\n",
    "    chain = LLMChain(llm=llm, prompt=prompt)\n",
    "    destination_chains[name] = chain  \n",
    "    \n",
    "destinations = [f\"{p['name']}: {p['description']}\" for p in p_infos]\n",
    "destinations_str = \"\\n\".join(destinations)\n"
   ]
  },
  {
   "cell_type": "code",
   "execution_count": 117,
   "id": "0869f7e1",
   "metadata": {},
   "outputs": [],
   "source": [
    "default_prompt = ChatPromptTemplate.from_template(\"{input}\")\n",
    "default_chain = LLMChain(llm=llm, prompt=default_prompt)"
   ]
  },
  {
   "cell_type": "code",
   "execution_count": 123,
   "id": "17887fbb",
   "metadata": {},
   "outputs": [],
   "source": [
    "MULTI_PROMPT_ROUTER_TEMPLATE = \"\"\"Given a raw text input to a \\\n",
    "language model select the model prompt best suited for the input. \\\n",
    "You will be given the names of the available prompts and a \\\n",
    "description of what the prompt is best suited for. \\\n",
    "You may also revise the original input if you think that revising\\\n",
    "it will ultimately lead to a better response from the language model.\n",
    "\n",
    "<< FORMATTING >>\n",
    "Return a markdown code snippet with a JSON object formatted to look like:\n",
    "```json\n",
    "{{{{\n",
    "    \"destination\": string \\ name of the prompt to use or \"DEFAULT\"\n",
    "    \"next_inputs\": string \\ a potentially modified version of the original input\n",
    "}}}}\n",
    "```\n",
    "\n",
    "REMEMBER: \"destination\" MUST be one of the candidate prompt \\\n",
    "names specified below OR it can be \"DEFAULT\" if the input is not\\\n",
    "well suited for any of the candidate prompts.\n",
    "REMEMBER: \"next_inputs\" can just be the original input \\\n",
    "if you don't think any modifications are needed.\n",
    "\n",
    "<< CANDIDATE PROMPTS >>\n",
    "{destinations}\n",
    "\n",
    "<< INPUT >>\n",
    "{{input}}\n",
    "\n",
    "<< OUTPUT (remember to include the ```json)>>\"\"\""
   ]
  },
  {
   "cell_type": "code",
   "execution_count": 124,
   "id": "797e240b",
   "metadata": {},
   "outputs": [],
   "source": [
    "router_template = MULTI_PROMPT_ROUTER_TEMPLATE.format(\n",
    "    destinations=destinations_str\n",
    ")\n",
    "router_prompt = PromptTemplate(\n",
    "    template=router_template,\n",
    "    input_variables=[\"input\"],\n",
    "    output_parser=RouterOutputParser(),\n",
    ")\n",
    "\n",
    "router_chain = LLMRouterChain.from_llm(llm, router_prompt)"
   ]
  },
  {
   "cell_type": "code",
   "execution_count": 125,
   "id": "250455d0",
   "metadata": {},
   "outputs": [],
   "source": [
    "chain1 = MultiPromptChain(router_chain=router_chain, \n",
    "                         destination_chains=destination_chains, \n",
    "                         default_chain=default_chain, verbose=True\n",
    "                        )"
   ]
  },
  {
   "cell_type": "code",
   "execution_count": 127,
   "id": "b8824db8",
   "metadata": {},
   "outputs": [
    {
     "name": "stdout",
     "output_type": "stream",
     "text": [
      "\n",
      "\n",
      "\u001b[1m> Entering new MultiPromptChain chain...\u001b[0m\n",
      "therapy: {'input': 'I tend to overthink things. How can I break out of this cycle?'}\n",
      "\u001b[1m> Finished chain.\u001b[0m\n"
     ]
    },
    {
     "data": {
      "text/plain": [
       "\"It's great that you're recognizing this pattern of overthinking and seeking help to break out of it. Overthinking can be exhausting and can lead to increased anxiety and stress. Here are some strategies that may help you break out of this cycle:\\n\\n1. Practice mindfulness: Mindfulness involves being present in the moment and focusing on your thoughts and feelings without judgment. This can help you become more aware of when you're overthinking and bring your attention back to the present moment.\\n\\n2. Challenge negative thoughts: When you catch yourself overthinking, try to challenge the negative thoughts that are fueling the cycle. Ask yourself if there is evidence to support these thoughts or if there are alternative, more positive interpretations.\\n\\n3. Set boundaries with your thoughts: Give yourself permission to let go of thoughts that are not serving you. Set aside specific times during the day to address your concerns and worries, and then let them go until the next designated time.\\n\\n4. Engage in activities that bring you joy: Engaging in activities that you enjoy can help distract you from overthinking and bring a sense of fulfillment and happiness.\\n\\n5. Seek support: Talking to a therapist or counselor can help you explore the root causes of your overthinking and develop coping strategies to break out of this cycle.\\n\\nRemember, breaking out of the cycle of overthinking takes time and practice, so be patient and kind to yourself as you work through this process.\""
      ]
     },
     "execution_count": 127,
     "metadata": {},
     "output_type": "execute_result"
    }
   ],
   "source": [
    "chain1.run(\"I tend to overthink things. How can I break out of this cycle?\")"
   ]
  },
  {
   "cell_type": "code",
   "execution_count": 128,
   "id": "55fb945b",
   "metadata": {},
   "outputs": [
    {
     "name": "stdout",
     "output_type": "stream",
     "text": [
      "\n",
      "\n",
      "\u001b[1m> Entering new MultiPromptChain chain...\u001b[0m\n",
      "therapy: {'input': 'How can I develop healthier coping mechanisms for when I feel stressed or overwhelmed?'}\n",
      "\u001b[1m> Finished chain.\u001b[0m\n"
     ]
    },
    {
     "data": {
      "text/plain": [
       "\"Developing healthier coping mechanisms for stress and overwhelm is an important aspect of self-care and mental well-being. Here are some suggestions that may help you in this process:\\n\\n1. Identify your triggers: Pay attention to what situations or thoughts tend to trigger your stress or overwhelm. By identifying these triggers, you can work on addressing them more effectively.\\n\\n2. Practice mindfulness: Mindfulness techniques, such as deep breathing, meditation, or yoga, can help you stay present and calm in the face of stress. These practices can also help you become more aware of your thoughts and emotions.\\n\\n3. Engage in physical activity: Exercise is a great way to release pent-up stress and tension. Whether it's going for a walk, practicing yoga, or hitting the gym, physical activity can help improve your mood and reduce stress levels.\\n\\n4. Seek support: Talking to a trusted friend, family member, or therapist can provide you with emotional support and help you gain new perspectives on your stressors. It's important to reach out for help when you need it.\\n\\n5. Practice self-care: Taking care of yourself is essential for managing stress. Make time for activities that bring you joy and relaxation, such as reading, listening to music, or taking a bath. Prioritize self-care in your daily routine.\\n\\n6. Set boundaries: Learn to say no to commitments or activities that cause you stress or overwhelm. Setting boundaries can help you prioritize your well-being and focus on what truly matters to you.\\n\\n7. Develop healthy coping strategies: Instead of turning to unhealthy coping mechanisms, such as substance abuse or avoidance, try to develop healthier ways to manage stress. This could include journaling, practicing gratitude, or engaging in hobbies that bring you joy.\\n\\nRemember, developing healthier coping mechanisms takes time and practice. Be patient with yourself and be open to trying different strategies until you find what works best for you. If you continue to struggle with stress and overwhelm, consider seeking professional help from a therapist or counselor.\""
      ]
     },
     "execution_count": 128,
     "metadata": {},
     "output_type": "execute_result"
    }
   ],
   "source": [
    "chain1.run(\"How can I develop healthier coping mechanisms for when I feel stressed or overwhelmed?\")"
   ]
  },
  {
   "cell_type": "code",
   "execution_count": 132,
   "id": "951404bb",
   "metadata": {},
   "outputs": [],
   "source": [
    "llm = ChatOpenAI(temperature=0.9)"
   ]
  },
  {
   "cell_type": "code",
   "execution_count": 133,
   "id": "e00216aa",
   "metadata": {},
   "outputs": [],
   "source": [
    "destination_chains = {}\n",
    "for p_info in p_infos:\n",
    "    name = p_info[\"name\"]\n",
    "    prompt_template = p_info[\"prompt_template\"]\n",
    "    prompt = ChatPromptTemplate.from_template(template=prompt_template)\n",
    "    chain = LLMChain(llm=llm, prompt=prompt)\n",
    "    destination_chains[name] = chain  \n",
    "    \n",
    "destinations = [f\"{p['name']}: {p['description']}\" for p in p_infos]\n",
    "destinations_str = \"\\n\".join(destinations)\n"
   ]
  },
  {
   "cell_type": "code",
   "execution_count": 134,
   "id": "2fff58da",
   "metadata": {},
   "outputs": [],
   "source": [
    "chain2 = MultiPromptChain(router_chain=router_chain, \n",
    "                         destination_chains=destination_chains, \n",
    "                         default_chain=default_chain, verbose=True\n",
    "                        )"
   ]
  },
  {
   "cell_type": "code",
   "execution_count": 135,
   "id": "7d2cebcd",
   "metadata": {},
   "outputs": [
    {
     "name": "stdout",
     "output_type": "stream",
     "text": [
      "\n",
      "\n",
      "\u001b[1m> Entering new MultiPromptChain chain...\u001b[0m\n",
      "None: {'input': 'Can you tell me a joke?'}\n",
      "\u001b[1m> Finished chain.\u001b[0m\n"
     ]
    },
    {
     "data": {
      "text/plain": [
       "\"Sure, here's one for you:\\n\\nWhy couldn't the bicycle stand up by itself?\\n\\nBecause it was two tired!\""
      ]
     },
     "execution_count": 135,
     "metadata": {},
     "output_type": "execute_result"
    }
   ],
   "source": [
    "chain2.run(\"Can you tell me a joke?\")\n"
   ]
  },
  {
   "cell_type": "code",
   "execution_count": 137,
   "id": "8a42f9cd",
   "metadata": {},
   "outputs": [
    {
     "name": "stdout",
     "output_type": "stream",
     "text": [
      "\n",
      "\n",
      "\u001b[1m> Entering new MultiPromptChain chain...\u001b[0m\n",
      "art: {'input': 'short story about a ghost and a sea?'}\n",
      "\u001b[1m> Finished chain.\u001b[0m\n"
     ]
    },
    {
     "data": {
      "text/plain": [
       "\"The sea was calm and serene, its waves gently lapping against the shore as the sun dipped below the horizon. The ghost of a young girl stood on the sandy beach, her translucent form shimmering in the fading light. She had been haunting this stretch of coastline for decades, unable to move on to the afterlife.\\n\\nThe ghost wandered along the water's edge, her ethereal form leaving no footprints in the sand. She longed to feel the cool touch of the ocean, but her ghostly nature prevented her from fully experiencing its beauty. As she gazed out at the vast expanse of water, memories flooded her mind of a time long ago when she was alive and free.\\n\\nSuddenly, a mist began to form on the horizon, swirling and coalescing into a figure of pure white light. The ghost watched in awe as the specter of a sea spirit emerged from the depths, its form ever-changing and shimmering like the waves themselves.\\n\\nThe sea spirit approached the ghost, its presence both comforting and unsettling. It spoke in a voice like crashing waves, telling the ghost of a forgotten legend of love and loss that had been passed down through the ages. The ghost listened intently, feeling a sense of recognition and belonging that she had long yearned for.\\n\\nTogether, the ghost and the sea spirit walked along the shore, their forms intertwining like the threads of a tapestry. As they faded into the mist, the ghost felt a sense of peace and closure wash over her, knowing that she was not alone in this world or the next.\\n\\nAnd so, the ghost and the sea became forever linked, their spirits dancing in harmony with the ebb and flow of the tide, a testament to the enduring power of love and connection that transcends both life and death.\""
      ]
     },
     "execution_count": 137,
     "metadata": {},
     "output_type": "execute_result"
    }
   ],
   "source": [
    "chain2.run(\"short story about a ghost and a sea?\")"
   ]
  },
  {
   "cell_type": "code",
   "execution_count": 138,
   "id": "77c37a20",
   "metadata": {},
   "outputs": [
    {
     "name": "stdout",
     "output_type": "stream",
     "text": [
      "\n",
      "\n",
      "\u001b[1m> Entering new MultiPromptChain chain...\u001b[0m\n",
      "art: {'input': 'ideas of a painting that represents the concept of time?'}\n",
      "\u001b[1m> Finished chain.\u001b[0m\n"
     ]
    },
    {
     "data": {
      "text/plain": [
       "'One idea for a painting that represents the concept of time could be a series of interconnected clocks, each showing a different time of day or representing a different moment in history. The clocks could be melting or distorted, symbolizing the fluidity and impermanence of time. Another idea could be a figure or object caught in a perpetual state of movement, with blurred lines and overlapping images to convey the passing of time. The painting could also incorporate symbols such as hourglasses, sundials, or calendars to further emphasize the theme of time. Ultimately, the painting would aim to visually capture the abstract concept of time and its impact on our lives.'"
      ]
     },
     "execution_count": 138,
     "metadata": {},
     "output_type": "execute_result"
    }
   ],
   "source": [
    "chain2.run(\"ideas of a painting that represents the concept of time?\")  \n"
   ]
  },
  {
   "cell_type": "code",
   "execution_count": 140,
   "id": "5608dc1b",
   "metadata": {},
   "outputs": [
    {
     "name": "stdout",
     "output_type": "stream",
     "text": [
      "\n",
      "\n",
      "\u001b[1m> Entering new MultiPromptChain chain...\u001b[0m\n",
      "None: {'input': \"Can you give me a summary of the book 'Harry Potter'?\"}\n",
      "\u001b[1m> Finished chain.\u001b[0m\n"
     ]
    },
    {
     "data": {
      "text/plain": [
       "'Sure! \"Harry Potter\" is a series of fantasy novels written by J.K. Rowling that follows the life of a young wizard named Harry Potter. The story begins with Harry discovering that he is a wizard on his eleventh birthday and is accepted into Hogwarts School of Witchcraft and Wizardry. Throughout the series, Harry learns about his past, battles dark forces, and ultimately faces the dark wizard Voldemort. Along the way, he forms strong friendships with Ron Weasley and Hermione Granger, and experiences love, loss, and triumph. The series explores themes of friendship, bravery, and the power of love.'"
      ]
     },
     "execution_count": 140,
     "metadata": {},
     "output_type": "execute_result"
    }
   ],
   "source": [
    "chain2.run(\"Can you give me a summary of the book 'Harry Potter'?\")"
   ]
  },
  {
   "cell_type": "code",
   "execution_count": 141,
   "id": "ea40029f",
   "metadata": {},
   "outputs": [
    {
     "name": "stdout",
     "output_type": "stream",
     "text": [
      "\n",
      "\n",
      "\u001b[1m> Entering new MultiPromptChain chain...\u001b[0m\n",
      "art: {'input': 'create a new song about love?'}\n",
      "\u001b[1m> Finished chain.\u001b[0m\n"
     ]
    },
    {
     "data": {
      "text/plain": [
       "\"Verse 1:\\nLove is a melody that plays in my heart\\nA symphony of emotions that sets me apart\\nIt's a feeling so deep, it can't be denied\\nA connection so strong, it can't be defied\\n\\nChorus:\\nLove is a flame that never fades\\nA light that guides us through the darkest of days\\nIt's a bond that can never be broken\\nA promise that will always be spoken\\n\\nVerse 2:\\nLove is a canvas where we paint our dreams\\nA journey of discovery, or so it seems\\nIt's a dance of passion and desire\\nA spark that ignites our inner fire\\n\\nChorus:\\nLove is a flame that never fades\\nA light that guides us through the darkest of days\\nIt's a bond that can never be broken\\nA promise that will always be spoken\\n\\nBridge:\\nIn love, we find ourselves and each other\\nIn love, we discover our true colors\\nIn love, we embrace all that we are\\nIn love, we shine like a distant star\\n\\nChorus:\\nLove is a flame that never fades\\nA light that guides us through the darkest of days\\nIt's a bond that can never be broken\\nA promise that will always be spoken\\n\\nOutro:\\nIn the tapestry of life, love is the thread\\nBinding us together, no matter what lies ahead\\nSo let's cherish this gift, this precious art\\nFor love is the song that echoes in our hearts.\""
      ]
     },
     "execution_count": 141,
     "metadata": {},
     "output_type": "execute_result"
    }
   ],
   "source": [
    "chain2.run(\"create a new song about love?\") "
   ]
  }
 ],
 "metadata": {
  "kernelspec": {
   "display_name": ".venv",
   "language": "python",
   "name": "python3"
  },
  "language_info": {
   "codemirror_mode": {
    "name": "ipython",
    "version": 3
   },
   "file_extension": ".py",
   "mimetype": "text/x-python",
   "name": "python",
   "nbconvert_exporter": "python",
   "pygments_lexer": "ipython3",
   "version": "3.11.4"
  }
 },
 "nbformat": 4,
 "nbformat_minor": 5
}
